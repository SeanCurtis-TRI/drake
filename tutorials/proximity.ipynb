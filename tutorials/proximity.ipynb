{
 "cells": [
  {
   "cell_type": "markdown",
   "metadata": {},
   "source": [
    "# Proximity queries - distance and contact\n",
    "For instructions on how to run these tutorial notebooks, please see the [README](https://github.com/RobotLocomotion/drake/blob/master/tutorials/README.md).\n",
    "\n",
    "This tutorial explores the nature of Drake's \"proximity\" queries. It covers\n",
    "core principles as well as APIs for influencing the results.\n",
    "\n",
    "## Proximity queries\n",
    "\n",
    "### Proximity Properties\n",
    "\n",
    "### Distance\n",
    "\n",
    "### Contact\n",
    "\n",
    "- [Hydroelastic Contact User Guide](https://drake.mit.edu/doxygen_cxx/group__hydroelastic__user__guide.html)\n",
    "\n",
    "## SceneGraph vs MultibodyPlant\n",
    "\n",
    "### Bodies, frames, and geometries\n",
    "\n",
    "## Collision filters\n",
    "\n",
    "## Display\n",
    "\n",
    "### Proximity geometries\n",
    "\n",
    "### Contact\n"
   ]
  }
 ],
 "metadata": {
  "language_info": {
   "name": "python"
  },
  "orig_nbformat": 4
 },
 "nbformat": 4,
 "nbformat_minor": 2
}
